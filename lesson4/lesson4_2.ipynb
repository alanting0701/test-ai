{
 "cells": [
  {
   "cell_type": "code",
   "execution_count": 8,
   "id": "fe78f17c",
   "metadata": {},
   "outputs": [
    {
     "name": "stdout",
     "output_type": "stream",
     "text": [
      "優\n"
     ]
    }
   ],
   "source": [
    "scores = int(input(\"請輸入學生分數(0-100)\"))\n",
    "\n",
    "if scores >= 90:\n",
    "    print(\"優\")\n",
    "else:\n",
    "    if scores >= 60:\n",
    "        print(\"及格\")\n",
    "    else:\n",
    "        print(\"不及格\")"
   ]
  },
  {
   "cell_type": "code",
   "execution_count": 10,
   "id": "d277c24e",
   "metadata": {},
   "outputs": [
    {
     "name": "stdout",
     "output_type": "stream",
     "text": [
      "及格\n"
     ]
    }
   ],
   "source": [
    "scores = int(input(\"請輸入學生分數(0-100)\"))\n",
    "\n",
    "if scores >= 90:\n",
    "    print(\"優\")\n",
    "elif scores >= 60:\n",
    "    print(\"及格\")\n",
    "else:\n",
    "    print(\"不及格\")"
   ]
  },
  {
   "cell_type": "code",
   "execution_count": 13,
   "id": "60ab6dcd",
   "metadata": {},
   "outputs": [
    {
     "name": "stdout",
     "output_type": "stream",
     "text": [
      "優\n"
     ]
    }
   ],
   "source": [
    "scores = int(input(\"請輸入學生分數(0-100)\"))\n",
    "\n",
    "if scores >= 90:\n",
    "    print(\"優\")\n",
    "elif scores >= 80:\n",
    "    print(\"甲\")\n",
    "elif scores >= 70:\n",
    "    print(\"乙\")\n",
    "elif scores >= 60:\n",
    "    print(\"丙\")\n",
    "else:\n",
    "    print(\"丁\")"
   ]
  },
  {
   "cell_type": "code",
   "execution_count": 18,
   "id": "3cdc9839",
   "metadata": {},
   "outputs": [
    {
     "name": "stdout",
     "output_type": "stream",
     "text": [
      "====BMI計算====\n",
      "\n",
      "您的BMI是27.77\n",
      "輕度肥胖\n"
     ]
    }
   ],
   "source": [
    "#計算BMI\n",
    "print(\"====BMI計算====\\n\")\n",
    "height = int(input(\"請輸入身高(cm)\"))\n",
    "weight = int(input(\"請輸入體重(kg)\"))\n",
    "bmi = weight / (height/100) ** 2\n",
    "print(f\"您的BMI是{round(bmi,ndigits=2)}\")\n",
    "\n",
    "if bmi<18.5:\n",
    "    print(\"體重過輕\")\n",
    "elif bmi<24:\n",
    "    print(\"正常範圍\")\n",
    "elif bmi<27:\n",
    "    print(\"過重\")\n",
    "elif bmi<30:\n",
    "    print(\"輕度肥胖\")\n",
    "elif bmi<35:\n",
    "    print(\"中度肥胖\")\n",
    "else:\n",
    "    print(\"種度肥胖\")"
   ]
  },
  {
   "cell_type": "code",
   "execution_count": 19,
   "id": "dc732fe7",
   "metadata": {},
   "outputs": [
    {
     "data": {
      "text/plain": [
       "True"
      ]
     },
     "execution_count": 19,
     "metadata": {},
     "output_type": "execute_result"
    }
   ],
   "source": [
    "not True\n",
    "not False\n"
   ]
  },
  {
   "cell_type": "code",
   "execution_count": 21,
   "id": "7aa3cb36",
   "metadata": {},
   "outputs": [
    {
     "name": "stdout",
     "output_type": "stream",
     "text": [
      "及格\n",
      "及格\n"
     ]
    }
   ],
   "source": [
    "scores = int(input(\"請輸入學生分數\"))\n",
    "\n",
    "if scores > 60:\n",
    "    print(\"及格\")\n",
    "else:\n",
    "    print(\"不及格\")\n",
    "\n",
    "if not (scores > 60):\n",
    "    print(\"不及格\")\n",
    "else:\n",
    "    print(\"及格\")"
   ]
  }
 ],
 "metadata": {
  "kernelspec": {
   "display_name": "base",
   "language": "python",
   "name": "python3"
  },
  "language_info": {
   "codemirror_mode": {
    "name": "ipython",
    "version": 3
   },
   "file_extension": ".py",
   "mimetype": "text/x-python",
   "name": "python",
   "nbconvert_exporter": "python",
   "pygments_lexer": "ipython3",
   "version": "3.13.2"
  }
 },
 "nbformat": 4,
 "nbformat_minor": 5
}
