{
 "cells": [
  {
   "cell_type": "code",
   "execution_count": null,
   "id": "e30d3b5e",
   "metadata": {},
   "outputs": [],
   "source": []
  },
  {
   "cell_type": "code",
   "execution_count": 7,
   "id": "bd27f08a",
   "metadata": {},
   "outputs": [
    {
     "name": "stdout",
     "output_type": "stream",
     "text": [
      "我的姓名:robert\n",
      "==================================================\n"
     ]
    }
   ],
   "source": [
    "# 字串可以使用的數學運算子(+ ,*)\n",
    "\n",
    "print(\"我的姓名:\"+\"robert\")\n",
    "print(\"=\" * 50)\n",
    "\n"
   ]
  },
  {
   "cell_type": "code",
   "execution_count": 9,
   "id": "bb1d5306",
   "metadata": {},
   "outputs": [
    {
     "name": "stdout",
     "output_type": "stream",
     "text": [
      "我的個人資料:\n",
      "姓名:\t丁聖倫\n",
      "性別:\t男\n"
     ]
    }
   ],
   "source": [
    "#字串的特別符號\n",
    "#\\n->換行\n",
    "#\\t->tab\n",
    "print(\"我的個人資料:\\n姓名:\\t丁聖倫\\n性別:\\t男\")"
   ]
  },
  {
   "cell_type": "code",
   "execution_count": 14,
   "id": "5cb9ec87",
   "metadata": {},
   "outputs": [
    {
     "name": "stdout",
     "output_type": "stream",
     "text": [
      " 我的個人資料:\n",
      "姓名:   丁聖倫\n",
      "性別:   男\n"
     ]
    }
   ],
   "source": [
    "#多行文字\n",
    "info =''' 我的個人資料:\n",
    "姓名:   丁聖倫\n",
    "性別:   男'''\n",
    "print(info)\n"
   ]
  },
  {
   "cell_type": "code",
   "execution_count": 21,
   "id": "9475e670",
   "metadata": {},
   "outputs": [
    {
     "name": "stdout",
     "output_type": "stream",
     "text": [
      "我有水果10個,蘋果:7顆,香蕉:3根.\n"
     ]
    }
   ],
   "source": [
    "# 字串和數值變數的整合\n",
    "# 利用+運算子\n",
    "fruits = 10\n",
    "apple = 7\n",
    "banana = 3\n",
    "\n",
    "result = \"我有水果\" + str(fruits) + \"個,蘋果:\" + str(apple) + \"顆,香蕉:\" + str(banana) + \"根.\" \n",
    "print(result)\n"
   ]
  },
  {
   "cell_type": "code",
   "execution_count": 22,
   "id": "ef843557",
   "metadata": {},
   "outputs": [
    {
     "name": "stdout",
     "output_type": "stream",
     "text": [
      "我有水果10個,蘋果:7顆,香蕉:3根.\n"
     ]
    }
   ],
   "source": [
    "# 字串和數值變數的整合\n",
    "# 利用複合指定運算子\n",
    "fruits = 10\n",
    "apple = 7\n",
    "banana = 3\n",
    "\n",
    "result = \"\"\n",
    "\n",
    "result += \"我有水果\" \n",
    "result += str(fruits) \n",
    "result += \"個,蘋果:\"\n",
    "result += str(apple) \n",
    "result += \"顆,香蕉:\" \n",
    "result += str(banana) \n",
    "result += \"根.\"\n",
    "\n",
    "print(result)"
   ]
  },
  {
   "cell_type": "code",
   "execution_count": 24,
   "id": "0a443e15",
   "metadata": {},
   "outputs": [
    {
     "name": "stdout",
     "output_type": "stream",
     "text": [
      "我有水果10個,蘋果:7顆,香蕉:3根\n"
     ]
    }
   ],
   "source": [
    "# 字串和數值變數的整合\n",
    "# 格式化字串(字串插補)\n",
    "fruits = 10\n",
    "apple = 7\n",
    "banana = 3\n",
    "\n",
    "result = f\"我有水果{fruits}個,蘋果:{apple}顆,香蕉:{banana}根\"\n",
    "\n",
    "print(result)"
   ]
  },
  {
   "cell_type": "code",
   "execution_count": null,
   "id": "39c08dcd",
   "metadata": {},
   "outputs": [],
   "source": []
  }
 ],
 "metadata": {
  "kernelspec": {
   "display_name": "base",
   "language": "python",
   "name": "python3"
  },
  "language_info": {
   "codemirror_mode": {
    "name": "ipython",
    "version": 3
   },
   "file_extension": ".py",
   "mimetype": "text/x-python",
   "name": "python",
   "nbconvert_exporter": "python",
   "pygments_lexer": "ipython3",
   "version": "3.13.2"
  }
 },
 "nbformat": 4,
 "nbformat_minor": 5
}
